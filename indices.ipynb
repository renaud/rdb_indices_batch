{
 "cells": [
  {
   "cell_type": "markdown",
   "id": "da061291-f3f7-43a3-8896-0fcf3ee83cba",
   "metadata": {},
   "source": [
    "# RDB lab: Indices\n",
    "\n",
    "You have just heard about indices today. This lab intends to give you a quick demonstration of their benefits.\n",
    "\n",
    "This demo will be done using [SQLite](https://www.sqlite.org/about.html). SQLite is an open-source, serverless, and lightweight database management system. It is embedded within the application that makes use of it, so it doesn't require a separate server process to operate - that's why it's often referred to as a self-contained, file-based database.\n",
    "\n",
    "Python has built-in support for SQLite 3 with its `sqlite3` library ([documentation](https://docs.python.org/3/library/sqlite3.html))."
   ]
  },
  {
   "cell_type": "code",
   "execution_count": 3,
   "id": "7a59c2b5-ab7a-4034-a5f3-aa2e3fe77e6b",
   "metadata": {},
   "outputs": [],
   "source": [
    "import sqlite3\n",
    "import time\n",
    "import os"
   ]
  },
  {
   "cell_type": "markdown",
   "id": "4e2edc52-dc88-4fe1-acca-6f9bb3c4a2c7",
   "metadata": {},
   "source": [
    "First, we remove the file that contains the database before each run. This way, we can run the script multiple times and start with a fresh, empty db."
   ]
  },
  {
   "cell_type": "code",
   "execution_count": 4,
   "id": "80d314e8-6d60-4830-b861-6fed7f2a569c",
   "metadata": {},
   "outputs": [
    {
     "name": "stdout",
     "output_type": "stream",
     "text": [
      "Database deleted successfully\n"
     ]
    }
   ],
   "source": [
    "DB_NAME = 'test_database.db'\n",
    "\n",
    "if os.path.exists(DB_NAME):\n",
    "    os.remove(DB_NAME)\n",
    "    print(\"Database deleted successfully\")"
   ]
  },
  {
   "cell_type": "markdown",
   "id": "31e82ab5-77fe-4838-980d-58bfd43251f0",
   "metadata": {},
   "source": [
    "### Create & populate db\n",
    "\n",
    "Next, we create a db table and populate it with a few million records. \n",
    "\n",
    "This takes a little while..."
   ]
  },
  {
   "cell_type": "code",
   "execution_count": 5,
   "id": "bf4308a0-edcd-4720-aadc-4f7dd748e7ce",
   "metadata": {},
   "outputs": [],
   "source": [
    "# Create a new SQLite3 database\n",
    "connection = sqlite3.connect(DB_NAME)\n",
    "\n",
    "# Create a new cursor\n",
    "cursor = connection.cursor()\n",
    "\n",
    "# Create a table\n",
    "cursor.execute(\"CREATE TABLE students (name TEXT, age INTEGER)\")\n",
    "\n",
    "# Populate the table with lots of random data\n",
    "for i in range(20000000):\n",
    "    age = i % 60 # Let's assume the ages range from 0 to 60\n",
    "    cursor.execute(f\"INSERT INTO students VALUES ('Student{i}', {age})\")\n",
    "\n",
    "# Commit the changes and close the connection\n",
    "connection.commit()\n",
    "connection.close()"
   ]
  },
  {
   "cell_type": "markdown",
   "id": "00d0973e-6e9c-41a6-9736-b1ae6f73d42f",
   "metadata": {},
   "source": [
    "### Query (without index)\n",
    "\n",
    "Then, we query the database. First, without index."
   ]
  },
  {
   "cell_type": "code",
   "execution_count": 6,
   "id": "7aa86fc7-6039-4e3f-b9a4-556d7843c66c",
   "metadata": {},
   "outputs": [
    {
     "name": "stdout",
     "output_type": "stream",
     "text": [
      "Time taken without index: 0.7092139720916748s\n",
      "Number of results: 333333\n"
     ]
    }
   ],
   "source": [
    "connection = sqlite3.connect(DB_NAME)\n",
    "cursor = connection.cursor()\n",
    "\n",
    "start = time.time()\n",
    "cursor.execute(\"SELECT * FROM students WHERE age = 20 AND name LIKE 'Student%'\")\n",
    "results = cursor.fetchall()\n",
    "end = time.time()\n",
    "\n",
    "print(f\"Time taken without index: {end - start}s\")\n",
    "print(f\"Number of results: {len(results)}\")\n",
    "\n",
    "connection.close()"
   ]
  },
  {
   "cell_type": "markdown",
   "id": "a72f26ac-bd3b-438c-be8c-5928cfe277f7",
   "metadata": {},
   "source": [
    "Note the time that it took to perform the `SELECT` query.\n",
    "\n",
    "### Index creation\n",
    "\n",
    "Now, let's create an index on the the `age` column of the table `students`"
   ]
  },
  {
   "cell_type": "code",
   "execution_count": 7,
   "id": "b2f927b3-5c7f-4c7e-8f92-ffd5e9bc6c50",
   "metadata": {},
   "outputs": [],
   "source": [
    "connection = sqlite3.connect(DB_NAME)\n",
    "cursor = connection.cursor()\n",
    "\n",
    "cursor.execute(\"CREATE INDEX age_index ON students (age)\")\n",
    "\n",
    "connection.commit()\n",
    "connection.close()"
   ]
  },
  {
   "cell_type": "markdown",
   "id": "e37db8ab-10c5-4a21-80dc-4af4d00f654a",
   "metadata": {},
   "source": [
    "### Query (with index)\n",
    "\n",
    "Then, we query the database. This time, there is an index."
   ]
  },
  {
   "cell_type": "code",
   "execution_count": 8,
   "id": "a46f0e74-6fee-46d9-a35a-bd5bfec72156",
   "metadata": {},
   "outputs": [
    {
     "name": "stdout",
     "output_type": "stream",
     "text": [
      "Time taken with index: 0.28774476051330566s\n",
      "Number of results: 333333\n"
     ]
    }
   ],
   "source": [
    "connection = sqlite3.connect(DB_NAME)\n",
    "cursor = connection.cursor()\n",
    "\n",
    "start = time.time()\n",
    "cursor.execute(\"SELECT * FROM students WHERE age = 20 AND name LIKE 'Student%'\")\n",
    "results = cursor.fetchall()\n",
    "end = time.time()\n",
    "\n",
    "print(f\"Time taken with index: {end - start}s\")\n",
    "print(f\"Number of results: {len(results)}\")\n",
    "\n",
    "connection.close()"
   ]
  },
  {
   "cell_type": "markdown",
   "id": "f5976d2e-044e-4d26-9796-aef8f30bdd1f",
   "metadata": {},
   "source": [
    "### Results\n",
    "\n",
    "You should observe that the query execution time with an index is significantly shorter than without indices.\n",
    "\n",
    "I must admit that this demo is not very impressive: I get a 2-3x speed-up on my machine. In practice, adding an index to a complex query on a large database, with multiple joins usually speeds things up from a couple of minutes to a few seconds...\n",
    "\n",
    "Caution: Indices speed up search queries but slow down inserts and updates. Therefore, use them wisely, especially in situations where reading data is more frequent than writing data."
   ]
  },
  {
   "cell_type": "code",
   "execution_count": null,
   "id": "873e6541-86f6-48ee-b8b9-d44aabe8bf4d",
   "metadata": {},
   "outputs": [],
   "source": []
  }
 ],
 "metadata": {
  "kernelspec": {
   "display_name": "Python 3 (ipykernel)",
   "language": "python",
   "name": "python3"
  },
  "language_info": {
   "codemirror_mode": {
    "name": "ipython",
    "version": 3
   },
   "file_extension": ".py",
   "mimetype": "text/x-python",
   "name": "python",
   "nbconvert_exporter": "python",
   "pygments_lexer": "ipython3",
   "version": "3.10.8"
  }
 },
 "nbformat": 4,
 "nbformat_minor": 5
}
